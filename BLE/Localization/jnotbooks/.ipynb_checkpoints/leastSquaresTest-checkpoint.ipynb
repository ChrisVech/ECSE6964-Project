{
 "cells": [
  {
   "cell_type": "markdown",
   "metadata": {},
   "source": [
    "## Minimization using Scipy"
   ]
  },
  {
   "cell_type": "code",
   "execution_count": 2,
   "metadata": {
    "collapsed": true
   },
   "outputs": [],
   "source": [
    "# import libraries\n",
    "import numpy as np\n",
    "import pandas as pd\n",
    "from scipy.optimize import minimize"
   ]
  },
  {
   "cell_type": "code",
   "execution_count": 3,
   "metadata": {
    "collapsed": false
   },
   "outputs": [],
   "source": [
    "def beacons():\n",
    "    \n",
    "    # beacon locations\n",
    "    b1 = [0.,0.]\n",
    "    b2 = [0., 0.820]\n",
    "    b3 = [1.12, 0.820]\n",
    "    b4 = [1.12, 0.]\n",
    "    \n",
    "    return [b1, b2, b3, b4]"
   ]
  },
  {
   "cell_type": "markdown",
   "metadata": {},
   "source": [
    "Cost or objective function to be used for miniimization. This is the error of distance values."
   ]
  },
  {
   "cell_type": "code",
   "execution_count": 4,
   "metadata": {
    "collapsed": false
   },
   "outputs": [],
   "source": [
    "def error(position,distanceEstimate):\n",
    "    \n",
    "    x = position[0]\n",
    "    y = position[1]\n",
    "    d = distanceEstimate\n",
    "    b = beacons()\n",
    "    \n",
    "    err = 0.0\n",
    "    \n",
    "    for i in range(len(d)):\n",
    "        err +=  (np.sqrt((b[i][0]- x)**2 + (b[i][1]- y)**2) - d[i])**2\n",
    "    \n",
    "    return err"
   ]
  },
  {
   "cell_type": "markdown",
   "metadata": {},
   "source": [
    "Use offline data for testing."
   ]
  },
  {
   "cell_type": "code",
   "execution_count": 6,
   "metadata": {
    "collapsed": false
   },
   "outputs": [
    {
     "name": "stdout",
     "output_type": "stream",
     "text": [
      "[[ 0.48954166  0.60653066  0.1934266   0.34251886]\n",
      " [ 0.42437285  0.60653066  0.34864492  0.34251886]\n",
      " [ 0.48954166  0.60653066  0.48954166  0.33071271]\n",
      " [ 0.48954166  0.60653066  0.52578802  0.34251886]\n",
      " [ 0.48954166  0.60653066  0.1934266   0.34251886]\n",
      " [ 0.6483297   0.60653066  0.35960731  0.31890656]\n",
      " [ 0.48954166  0.52578802  0.1934266   0.75147729]\n",
      " [ 0.45579402  0.60653066  0.18009231  0.34251886]\n",
      " [ 0.48954166  0.60653066  0.18675946  0.34251886]\n",
      " [ 0.48954166  0.80711775  0.1934266   0.34251886]\n",
      " [ 0.47266784  0.58562439  0.1934266   0.34251886]\n",
      " [ 0.42437285  0.60653066  0.1934266   0.34251886]\n",
      " [ 0.48954166  0.56471812  0.1934266   0.75147729]\n",
      " [ 0.50766484  0.56471812  0.1934266   0.34251886]\n",
      " [ 0.48954166  0.60653066  0.1934266   0.34251886]\n",
      " [ 0.45579402  0.75147729  0.25739514  0.34251886]\n",
      " [ 0.7068242   0.56471812  0.1934266   0.34251886]\n",
      " [ 0.47266784  0.60653066  0.1934266   0.69967254]\n",
      " [ 0.8668779   0.60653066  0.1934266   0.34251886]\n",
      " [ 0.48954166  0.80711775  0.1934266   0.34251886]]\n"
     ]
    }
   ],
   "source": [
    "# Parce Data\n",
    "data = pd.read_csv('varCalcData2.txt', sep=\",\", header=None)\n",
    "data = np.array(data)\n",
    "print(data)"
   ]
  },
  {
   "cell_type": "markdown",
   "metadata": {},
   "source": [
    "Want to make sure the dimensions of everything is correct for the minimization in scipy."
   ]
  },
  {
   "cell_type": "code",
   "execution_count": 7,
   "metadata": {
    "collapsed": false
   },
   "outputs": [
    {
     "name": "stdout",
     "output_type": "stream",
     "text": [
      "[[ 0.45579402]\n",
      " [ 0.75147729]\n",
      " [ 0.25739514]\n",
      " [ 0.34251886]]\n",
      "[[ 0.45]\n",
      " [ 0.55]]\n"
     ]
    }
   ],
   "source": [
    "distEst = data[15]\n",
    "distEst = np.reshape(distEst,(len(distEst),1))\n",
    "print(distEst)\n",
    "\n",
    "positionInitial = np.array([0.45, 0.55])\n",
    "positionInitial = np.reshape(positionInitial,(len(positionInitial),1))\n",
    "print(positionInitial)\n",
    "\n",
    "b = beacons()"
   ]
  },
  {
   "cell_type": "code",
   "execution_count": 8,
   "metadata": {
    "collapsed": false,
    "scrolled": true
   },
   "outputs": [
    {
     "name": "stdout",
     "output_type": "stream",
     "text": [
      "Warning: Desired error not necessarily achieved due to precision loss.\n",
      "         Current function value: 0.294237\n",
      "         Iterations: 3\n",
      "         Function evaluations: 40\n",
      "         Gradient evaluations: 7\n",
      "     fun: 0.2942368772479242\n",
      "     jac: array([ -1.72961503e-04,   5.84535301e-05])\n",
      " message: 'Desired error not necessarily achieved due to precision loss.'\n",
      "    nfev: 40\n",
      "     nit: 3\n",
      "    njev: 7\n",
      "  status: 2\n",
      " success: False\n",
      "       x: array([ 0.71391315,  0.37362302])\n"
     ]
    }
   ],
   "source": [
    "sol = minimize(error,positionInitial,args=(distEst),method='CG',options={'gtol': 1e-6, 'disp': True})\n",
    "print(sol)"
   ]
  },
  {
   "cell_type": "code",
   "execution_count": 12,
   "metadata": {
    "collapsed": false
   },
   "outputs": [
    {
     "data": {
      "text/plain": [
       "array([ 0.71391315,  0.37362302])"
      ]
     },
     "execution_count": 12,
     "metadata": {},
     "output_type": "execute_result"
    }
   ],
   "source": [
    "sol.x[:]"
   ]
  },
  {
   "cell_type": "code",
   "execution_count": null,
   "metadata": {
    "collapsed": true
   },
   "outputs": [],
   "source": []
  }
 ],
 "metadata": {
  "kernelspec": {
   "display_name": "Python 2",
   "language": "python",
   "name": "python2"
  },
  "language_info": {
   "codemirror_mode": {
    "name": "ipython",
    "version": 2
   },
   "file_extension": ".py",
   "mimetype": "text/x-python",
   "name": "python",
   "nbconvert_exporter": "python",
   "pygments_lexer": "ipython2",
   "version": "2.7.12"
  }
 },
 "nbformat": 4,
 "nbformat_minor": 2
}
