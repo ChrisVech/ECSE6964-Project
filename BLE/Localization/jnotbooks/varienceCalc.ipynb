{
 "cells": [
  {
   "cell_type": "markdown",
   "metadata": {},
   "source": [
    "# Compute the Varience for each of the Beacons\n",
    "### To be used for the weighted circular algorithm for localization"
   ]
  },
  {
   "cell_type": "code",
   "execution_count": 2,
   "metadata": {
    "collapsed": true
   },
   "outputs": [],
   "source": [
    "# import libraries\n",
    "import numpy as np\n",
    "import pandas as pd"
   ]
  },
  {
   "cell_type": "code",
   "execution_count": 3,
   "metadata": {
    "collapsed": false
   },
   "outputs": [
    {
     "name": "stdout",
     "output_type": "stream",
     "text": [
      "[[ 0.48954166  0.60653066  0.1934266   0.34251886]\n",
      " [ 0.42437285  0.60653066  0.34864492  0.34251886]\n",
      " [ 0.48954166  0.60653066  0.48954166  0.33071271]\n",
      " [ 0.48954166  0.60653066  0.52578802  0.34251886]\n",
      " [ 0.48954166  0.60653066  0.1934266   0.34251886]\n",
      " [ 0.6483297   0.60653066  0.35960731  0.31890656]\n",
      " [ 0.48954166  0.52578802  0.1934266   0.75147729]\n",
      " [ 0.45579402  0.60653066  0.18009231  0.34251886]\n",
      " [ 0.48954166  0.60653066  0.18675946  0.34251886]\n",
      " [ 0.48954166  0.80711775  0.1934266   0.34251886]\n",
      " [ 0.47266784  0.58562439  0.1934266   0.34251886]\n",
      " [ 0.42437285  0.60653066  0.1934266   0.34251886]\n",
      " [ 0.48954166  0.56471812  0.1934266   0.75147729]\n",
      " [ 0.50766484  0.56471812  0.1934266   0.34251886]\n",
      " [ 0.48954166  0.60653066  0.1934266   0.34251886]\n",
      " [ 0.45579402  0.75147729  0.25739514  0.34251886]\n",
      " [ 0.7068242   0.56471812  0.1934266   0.34251886]\n",
      " [ 0.47266784  0.60653066  0.1934266   0.69967254]\n",
      " [ 0.8668779   0.60653066  0.1934266   0.34251886]\n",
      " [ 0.48954166  0.80711775  0.1934266   0.34251886]]\n"
     ]
    }
   ],
   "source": [
    "data = pd.read_csv('varCalcData2.txt', sep=\",\", header=None)\n",
    "data = np.array(data)\n",
    "print(data)"
   ]
  },
  {
   "cell_type": "code",
   "execution_count": 4,
   "metadata": {
    "collapsed": false
   },
   "outputs": [
    {
     "name": "stdout",
     "output_type": "stream",
     "text": [
      "[ 0.01059502  0.0054296   0.01023925  0.01989047]\n"
     ]
    }
   ],
   "source": [
    "var_d = np.var(data, dtype=np.float64, axis=0)\n",
    "print(var_d)"
   ]
  },
  {
   "cell_type": "markdown",
   "metadata": {},
   "source": [
    "#### Use results here for BLE localization"
   ]
  },
  {
   "cell_type": "code",
   "execution_count": 5,
   "metadata": {
    "collapsed": false
   },
   "outputs": [
    {
     "data": {
      "text/plain": [
       "array([ 0.01458598,  0.0101502 ,  0.00949717,  0.01719393])"
      ]
     },
     "execution_count": 5,
     "metadata": {},
     "output_type": "execute_result"
    }
   ],
   "source": [
    "var_d"
   ]
  },
  {
   "cell_type": "code",
   "execution_count": 7,
   "metadata": {
    "collapsed": false
   },
   "outputs": [],
   "source": [
    "test = var_d > 0.01"
   ]
  },
  {
   "cell_type": "code",
   "execution_count": 8,
   "metadata": {
    "collapsed": false
   },
   "outputs": [
    {
     "data": {
      "text/plain": [
       "array([ True,  True, False,  True], dtype=bool)"
      ]
     },
     "execution_count": 8,
     "metadata": {},
     "output_type": "execute_result"
    }
   ],
   "source": [
    "test"
   ]
  },
  {
   "cell_type": "code",
   "execution_count": 10,
   "metadata": {
    "collapsed": false
   },
   "outputs": [
    {
     "data": {
      "text/plain": [
       "3"
      ]
     },
     "execution_count": 10,
     "metadata": {},
     "output_type": "execute_result"
    }
   ],
   "source": [
    "np.sum(test)"
   ]
  },
  {
   "cell_type": "markdown",
   "metadata": {},
   "source": [
    "test2 = var_d<0.01\n"
   ]
  },
  {
   "cell_type": "code",
   "execution_count": 15,
   "metadata": {
    "collapsed": false
   },
   "outputs": [],
   "source": [
    "test2 = var_d<0.009"
   ]
  },
  {
   "cell_type": "code",
   "execution_count": 16,
   "metadata": {
    "collapsed": false
   },
   "outputs": [
    {
     "data": {
      "text/plain": [
       "array([False, False, False, False], dtype=bool)"
      ]
     },
     "execution_count": 16,
     "metadata": {},
     "output_type": "execute_result"
    }
   ],
   "source": [
    "test2"
   ]
  },
  {
   "cell_type": "code",
   "execution_count": 17,
   "metadata": {
    "collapsed": false
   },
   "outputs": [
    {
     "data": {
      "text/plain": [
       "False"
      ]
     },
     "execution_count": 17,
     "metadata": {},
     "output_type": "execute_result"
    }
   ],
   "source": [
    "np.any(test2)"
   ]
  },
  {
   "cell_type": "code",
   "execution_count": 20,
   "metadata": {
    "collapsed": false
   },
   "outputs": [
    {
     "name": "stdout",
     "output_type": "stream",
     "text": [
      "1\n",
      "2\n",
      "3\n"
     ]
    }
   ],
   "source": [
    "for io in range(1,4):\n",
    "    print(io)\n",
    "\n",
    "    "
   ]
  },
  {
   "cell_type": "code",
   "execution_count": null,
   "metadata": {
    "collapsed": true
   },
   "outputs": [],
   "source": []
  }
 ],
 "metadata": {
  "kernelspec": {
   "display_name": "Python 2",
   "language": "python",
   "name": "python2"
  },
  "language_info": {
   "codemirror_mode": {
    "name": "ipython",
    "version": 2
   },
   "file_extension": ".py",
   "mimetype": "text/x-python",
   "name": "python",
   "nbconvert_exporter": "python",
   "pygments_lexer": "ipython2",
   "version": "2.7.12"
  }
 },
 "nbformat": 4,
 "nbformat_minor": 2
}
