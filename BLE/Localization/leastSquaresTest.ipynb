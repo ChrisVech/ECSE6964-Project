{
 "cells": [
  {
   "cell_type": "markdown",
   "metadata": {},
   "source": [
    "## Minimization using Scipy"
   ]
  },
  {
   "cell_type": "code",
   "execution_count": 1,
   "metadata": {
    "collapsed": true
   },
   "outputs": [],
   "source": [
    "# import libraries\n",
    "import numpy as np\n",
    "import pandas as pd\n",
    "from scipy.optimize import minimize"
   ]
  },
  {
   "cell_type": "code",
   "execution_count": 2,
   "metadata": {
    "collapsed": false
   },
   "outputs": [],
   "source": [
    "def beacons():\n",
    "    \n",
    "    # beacon locations\n",
    "    b1 = [0.,0.]\n",
    "    b2 = [0., 0.820]\n",
    "    b3 = [1.12, 0.820]\n",
    "    b4 = [1.12, 0.]\n",
    "    \n",
    "    return [b1, b2, b3, b4]"
   ]
  },
  {
   "cell_type": "markdown",
   "metadata": {},
   "source": [
    "Cost or objective function to be used for miniimization. This is the error of distance values."
   ]
  },
  {
   "cell_type": "code",
   "execution_count": 3,
   "metadata": {
    "collapsed": false
   },
   "outputs": [],
   "source": [
    "def error(position,distanceEstimate):\n",
    "    \n",
    "    x = position[0]\n",
    "    y = position[1]\n",
    "    d = distanceEstimate\n",
    "    b = beacons()\n",
    "    \n",
    "    err = 0.0\n",
    "    \n",
    "    for i in range(len(d)):\n",
    "        err +=  (np.sqrt((b[i][0]- x)**2 + (b[i][1]- y)**2) - d[i])**2\n",
    "    \n",
    "    return err"
   ]
  },
  {
   "cell_type": "markdown",
   "metadata": {},
   "source": [
    "Use offline data for testing."
   ]
  },
  {
   "cell_type": "code",
   "execution_count": 4,
   "metadata": {
    "collapsed": false
   },
   "outputs": [
    {
     "name": "stdout",
     "output_type": "stream",
     "text": [
      "[[ 0.65143906  0.27645305  0.48954166  0.34251886]\n",
      " [ 0.46271861  0.56471812  0.48954166  0.34251886]\n",
      " [ 0.83699782  0.26692409  0.6755558   0.31890656]\n",
      " [ 0.69967254  0.27645305  0.48954166  0.31890656]\n",
      " [ 0.69967254  0.27645305  0.48954166  0.34251886]\n",
      " [ 0.93106278  0.27645305  0.48954166  0.41183673]\n",
      " [ 0.47452476  0.27645305  0.69967254  0.34251886]\n",
      " [ 0.6755558   0.6531016   0.57329753  0.34251886]\n",
      " [ 0.65143906  0.27645305  0.75339514  0.33071271]\n",
      " [ 0.65143906  0.27645305  0.48954166  0.5748183 ]\n",
      " [ 0.78327522  0.27645305  0.48954166  0.31890656]\n",
      " [ 0.60653066  0.27645305  0.65143906  0.8668779 ]\n",
      " [ 0.60469838  0.27645305  0.42437285  0.33071271]\n",
      " [ 0.65143906  0.27645305  0.44232971  0.34251886]\n",
      " [ 0.81536766  0.27645305  0.39511776  0.34251886]\n",
      " [ 0.65143906  0.27645305  0.45579402  0.34251886]\n",
      " [ 0.60653066  0.27645305  0.48954166  0.34251886]\n",
      " [ 0.65143906  0.27645305  0.52578802  0.34251886]\n",
      " [ 0.65143906  0.28668754  0.39511776  0.5210957 ]\n",
      " [ 0.93106278  0.27645305  0.48954166  0.53519193]]\n"
     ]
    }
   ],
   "source": [
    "# Parce Data\n",
    "data = pd.read_csv('varCalcData.txt', sep=\",\", header=None)\n",
    "data = np.array(data)\n",
    "print(data)"
   ]
  },
  {
   "cell_type": "markdown",
   "metadata": {},
   "source": [
    "Want to make sure the dimensions of everything is correct for the minimization in scipy."
   ]
  },
  {
   "cell_type": "code",
   "execution_count": 11,
   "metadata": {
    "collapsed": false
   },
   "outputs": [
    {
     "name": "stdout",
     "output_type": "stream",
     "text": [
      "[[ 0.65143906]\n",
      " [ 0.27645305]\n",
      " [ 0.45579402]\n",
      " [ 0.34251886]]\n",
      "[[ 0.45]\n",
      " [ 0.55]]\n"
     ]
    }
   ],
   "source": [
    "distEst = data[15]\n",
    "distEst = np.reshape(distEst,(len(distEst),1))\n",
    "print(distEst)\n",
    "\n",
    "positionInitial = np.array([0.45, 0.55])\n",
    "positionInitial = np.reshape(positionInitial,(len(positionInitial),1))\n",
    "print(positionInitial)\n",
    "\n",
    "b = beacons()"
   ]
  },
  {
   "cell_type": "code",
   "execution_count": 12,
   "metadata": {
    "collapsed": false,
    "scrolled": true
   },
   "outputs": [
    {
     "name": "stdout",
     "output_type": "stream",
     "text": [
      "Optimization terminated successfully.\n",
      "         Current function value: 0.344304\n",
      "         Iterations: 4\n",
      "         Function evaluations: 36\n",
      "         Gradient evaluations: 9\n",
      "     fun: 0.3443038600564301\n",
      "     jac: array([ -8.79168510e-07,   2.19792128e-07])\n",
      " message: 'Optimization terminated successfully.'\n",
      "    nfev: 36\n",
      "     nit: 4\n",
      "    njev: 9\n",
      "  status: 0\n",
      " success: True\n",
      "       x: array([ 0.58693524,  0.47081528])\n"
     ]
    }
   ],
   "source": [
    "sol = minimize(error,positionInitial,args=(distEst),method='CG',options={'gtol': 1e-6, 'disp': True})\n",
    "print(sol)"
   ]
  },
  {
   "cell_type": "code",
   "execution_count": null,
   "metadata": {
    "collapsed": true
   },
   "outputs": [],
   "source": []
  }
 ],
 "metadata": {
  "kernelspec": {
   "display_name": "Python 2",
   "language": "python",
   "name": "python2"
  },
  "language_info": {
   "codemirror_mode": {
    "name": "ipython",
    "version": 2
   },
   "file_extension": ".py",
   "mimetype": "text/x-python",
   "name": "python",
   "nbconvert_exporter": "python",
   "pygments_lexer": "ipython2",
   "version": "2.7.12"
  }
 },
 "nbformat": 4,
 "nbformat_minor": 2
}
