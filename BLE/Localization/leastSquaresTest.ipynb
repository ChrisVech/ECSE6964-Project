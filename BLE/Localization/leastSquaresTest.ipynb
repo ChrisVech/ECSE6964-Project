{
 "cells": [
  {
   "cell_type": "code",
   "execution_count": 1,
   "metadata": {
    "collapsed": true
   },
   "outputs": [],
   "source": [
    "import numpy as np\n",
    "import pandas as pd\n",
    "from scipy.optimize import minimize\n"
   ]
  },
  {
   "cell_type": "code",
   "execution_count": 2,
   "metadata": {
    "collapsed": false
   },
   "outputs": [],
   "source": [
    "def beacons():\n",
    "    \n",
    "    # beacon locations\n",
    "    b1 = [0.,0.]\n",
    "    b2 = [0., 0.820]\n",
    "    b3 = [1.12, 0.820]\n",
    "    b4 = [1.12, 0.]\n",
    "    \n",
    "    return [b1, b2, b3, b4]"
   ]
  },
  {
   "cell_type": "code",
   "execution_count": 21,
   "metadata": {
    "collapsed": false
   },
   "outputs": [],
   "source": [
    "def error(position,distanceEstimate):\n",
    "    \n",
    "    x = position[0]\n",
    "    y = position[1]\n",
    "    d = distanceEstimate\n",
    "    b = beacons()\n",
    "    \n",
    "    err = 0.0\n",
    "    \n",
    "    for i in range(len(d)):\n",
    "        err +=  (np.sqrt((b[i][0]- x)**2 + (b[i][1]- y)**2) - d[i])**2\n",
    "    \n",
    "    return err\n"
   ]
  },
  {
   "cell_type": "code",
   "execution_count": 22,
   "metadata": {
    "collapsed": false
   },
   "outputs": [
    {
     "data": {
      "text/plain": [
       "((0.0, 1.12), (0.0, 0.82))"
      ]
     },
     "execution_count": 22,
     "metadata": {},
     "output_type": "execute_result"
    }
   ],
   "source": [
    "b = beacons()\n",
    "bnds = ((0.,b[3][0]),tuple(b[1]))\n",
    "bnds\n"
   ]
  },
  {
   "cell_type": "code",
   "execution_count": 23,
   "metadata": {
    "collapsed": false
   },
   "outputs": [
    {
     "name": "stdout",
     "output_type": "stream",
     "text": [
      "[[ 0.16189765  1.59814603  0.31890656  0.33071271]\n",
      " [ 0.1453557   0.80711775  0.31890656  0.27645305]\n",
      " [ 0.36787944  1.07404143  0.1453557   0.27645305]\n",
      " [ 0.15611805  1.07404143  0.31890656  0.26692409]\n",
      " [ 0.16189765  0.50766484  0.1453557   0.25739514]\n",
      " [ 0.16767725  0.54525307  0.1934266   0.27645305]\n",
      " [ 0.15073687  0.83699782  0.1453557   0.27645305]\n",
      " [ 0.15611805  0.93106278  0.1453557   0.29692203]\n",
      " [ 0.16767725  0.72557492  0.1453557   0.25739514]\n",
      " [ 0.15611805  0.75147729  0.1453557   0.27645305]\n",
      " [ 0.27645305  0.48954166  0.1453557   0.46394605]\n",
      " [ 0.42437285  0.6531016   0.1453557   0.53377599]\n",
      " [ 0.1453557   0.80711775  0.1453557   0.27645305]\n",
      " [ 0.15611805  0.8668779   0.1453557   0.46394605]\n",
      " [ 0.16189765  0.87573865  0.1453557   0.29692203]\n",
      " [ 0.16189765  0.54525307  0.1453557   0.29692203]\n",
      " [ 0.15611805  0.69967254  0.1453557   0.25739514]\n",
      " [ 0.1453557   0.75147729  0.15073687  0.56471812]\n",
      " [ 0.15611805  1.11380321  0.23213113  0.25739514]\n",
      " [ 0.42437285  0.80711775  0.1453557   0.44181234]]\n"
     ]
    }
   ],
   "source": [
    "# Parce Data\n",
    "data = pd.read_csv('test02.txt', sep=\",\", header=None)\n",
    "data = np.array(data)\n",
    "print(data)"
   ]
  },
  {
   "cell_type": "code",
   "execution_count": 29,
   "metadata": {
    "collapsed": false
   },
   "outputs": [
    {
     "name": "stdout",
     "output_type": "stream",
     "text": [
      "[ 0.1453557   0.80711775  0.31890656  0.27645305]\n"
     ]
    },
    {
     "data": {
      "text/plain": [
       "0.14535570123384661"
      ]
     },
     "execution_count": 29,
     "metadata": {},
     "output_type": "execute_result"
    }
   ],
   "source": [
    "distEst = data[1]\n",
    "print(distEst)\n",
    "b = beacons()\n",
    "positionInitial = [0.45, 0.55]\n",
    "len(distEst)\n",
    "distEst[0]"
   ]
  },
  {
   "cell_type": "code",
   "execution_count": 30,
   "metadata": {
    "collapsed": false,
    "scrolled": true
   },
   "outputs": [
    {
     "name": "stdout",
     "output_type": "stream",
     "text": [
      "Optimization terminated successfully.\n",
      "         Current function value: 0.546965\n",
      "         Iterations: 6\n",
      "         Function evaluations: 52\n",
      "         Gradient evaluations: 13\n"
     ]
    },
    {
     "data": {
      "text/plain": [
       "     fun: 0.5469651634471069\n",
       "     jac: array([  3.72529030e-08,   2.98023224e-08])\n",
       " message: 'Optimization terminated successfully.'\n",
       "    nfev: 52\n",
       "     nit: 6\n",
       "    njev: 13\n",
       "  status: 0\n",
       " success: True\n",
       "       x: array([ 0.63149462,  0.26347138])"
      ]
     },
     "execution_count": 30,
     "metadata": {},
     "output_type": "execute_result"
    }
   ],
   "source": [
    "sol = minimize(error,positionInitial,args=(distEst),method='CG',options={'gtol': 1e-6, 'disp': True})\n",
    "sol"
   ]
  },
  {
   "cell_type": "code",
   "execution_count": null,
   "metadata": {
    "collapsed": false
   },
   "outputs": [],
   "source": []
  },
  {
   "cell_type": "code",
   "execution_count": null,
   "metadata": {
    "collapsed": true
   },
   "outputs": [],
   "source": []
  },
  {
   "cell_type": "code",
   "execution_count": null,
   "metadata": {
    "collapsed": true
   },
   "outputs": [],
   "source": []
  }
 ],
 "metadata": {
  "kernelspec": {
   "display_name": "Python 2",
   "language": "python",
   "name": "python2"
  },
  "language_info": {
   "codemirror_mode": {
    "name": "ipython",
    "version": 2
   },
   "file_extension": ".py",
   "mimetype": "text/x-python",
   "name": "python",
   "nbconvert_exporter": "python",
   "pygments_lexer": "ipython2",
   "version": "2.7.12"
  }
 },
 "nbformat": 4,
 "nbformat_minor": 2
}
