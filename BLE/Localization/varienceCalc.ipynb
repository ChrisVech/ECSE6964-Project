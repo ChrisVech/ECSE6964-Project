{
 "cells": [
  {
   "cell_type": "markdown",
   "metadata": {},
   "source": [
    "# Compute the Varience for each of the Beacons\n",
    "### To be used for the weighted circular algorithm for localization"
   ]
  },
  {
   "cell_type": "code",
   "execution_count": 1,
   "metadata": {
    "collapsed": true
   },
   "outputs": [],
   "source": [
    "# import libraries\n",
    "import numpy as np\n",
    "import pandas as pd"
   ]
  },
  {
   "cell_type": "code",
   "execution_count": 2,
   "metadata": {
    "collapsed": false
   },
   "outputs": [
    {
     "name": "stdout",
     "output_type": "stream",
     "text": [
      "[[ 0.65143906  0.83699782  0.65143906  0.52327841]\n",
      " [ 0.75147729  0.96553139  0.58792507  0.50965925]\n",
      " [ 0.75147729  1.15356499  0.65143906  0.6755558 ]\n",
      " [ 0.72557492  0.96553139  0.75147729  0.60653066]\n",
      " [ 0.65143906  0.84983627  0.31890656  0.93106278]\n",
      " [ 0.62898486  0.93106278  0.31890656  0.34251886]\n",
      " [ 0.75147729  0.8668779   0.50928955  0.75147729]\n",
      " [ 0.69967254  1.2389766   0.31890656  0.35519915]\n",
      " [ 0.69967254  1.68671963  0.75147729  0.69967254]\n",
      " [ 0.69967254  1.42924003  0.31890656  0.93106278]\n",
      " [ 0.93106278  1.64872127  0.34251886  0.42437285]\n",
      " [ 0.60653066  1.64872127  0.31890656  0.36787944]\n",
      " [ 1.3307122   0.75147729  0.31890656  0.39511776]\n",
      " [ 1.42924003  1.3307122   0.31890656  0.54525307]\n",
      " [ 1.          1.11380321  0.31890656  0.45579402]\n",
      " [ 1.3307122   0.94057959  0.34251886  0.52578802]\n",
      " [ 0.65143906  1.          0.5210957   0.93106278]\n",
      " [ 1.48215152  1.37997611  0.55967837  0.93106278]\n",
      " [ 0.93106278  1.53506301  0.31890656  0.56471812]\n",
      " [ 0.65143906  1.90190714  0.3814986   0.36787944]]\n"
     ]
    }
   ],
   "source": [
    "data = pd.read_csv('varCalcData.txt', sep=\",\", header=None)\n",
    "data = np.array(data)\n",
    "print(data)"
   ]
  },
  {
   "cell_type": "code",
   "execution_count": 3,
   "metadata": {
    "collapsed": false
   },
   "outputs": [
    {
     "name": "stdout",
     "output_type": "stream",
     "text": [
      "[ 0.08024316  0.11061203  0.02423527  0.04135387]\n"
     ]
    }
   ],
   "source": [
    "var_d = np.var(data, dtype=np.float64, axis=0)\n",
    "print(var_d)"
   ]
  },
  {
   "cell_type": "markdown",
   "metadata": {},
   "source": [
    "#### Use results here for BLE localization"
   ]
  },
  {
   "cell_type": "code",
   "execution_count": null,
   "metadata": {
    "collapsed": true
   },
   "outputs": [],
   "source": []
  }
 ],
 "metadata": {
  "kernelspec": {
   "display_name": "Python 2",
   "language": "python",
   "name": "python2"
  },
  "language_info": {
   "codemirror_mode": {
    "name": "ipython",
    "version": 2
   },
   "file_extension": ".py",
   "mimetype": "text/x-python",
   "name": "python",
   "nbconvert_exporter": "python",
   "pygments_lexer": "ipython2",
   "version": "2.7.12"
  }
 },
 "nbformat": 4,
 "nbformat_minor": 2
}
