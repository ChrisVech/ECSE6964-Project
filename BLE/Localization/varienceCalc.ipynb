{
 "cells": [
  {
   "cell_type": "markdown",
   "metadata": {},
   "source": [
    "# Compute the Varience for each of the Beacons\n",
    "### To be used for the weighted circular algorithm for localization"
   ]
  },
  {
   "cell_type": "code",
   "execution_count": 1,
   "metadata": {
    "collapsed": true
   },
   "outputs": [],
   "source": [
    "# import libraries\n",
    "import numpy as np\n",
    "import pandas as pd"
   ]
  },
  {
   "cell_type": "code",
   "execution_count": 3,
   "metadata": {
    "collapsed": false
   },
   "outputs": [
    {
     "name": "stdout",
     "output_type": "stream",
     "text": [
      "[[ 0.34251886  0.75147729  0.39511776  1.07404143]\n",
      " [ 0.42437285  0.75147729  0.75915848  0.42437285]\n",
      " [ 0.48954166  0.96553139  0.54803616  0.3814986 ]\n",
      " [ 0.56471812  0.56615934  0.31890656  0.29692203]\n",
      " [ 0.52578802  0.69967254  0.31890656  0.30791429]\n",
      " [ 0.62898486  0.69967254  0.56615934  0.49454548]\n",
      " [ 1.2389766   0.75147729  0.65143906  0.42437285]\n",
      " [ 0.74789045  1.06891497  0.45579402  0.47266784]\n",
      " [ 0.56471812  0.89897034  0.48954166  0.39511776]\n",
      " [ 1.15356499  0.93106278  0.75147729  0.49454548]\n",
      " [ 0.8668779   0.66133596  0.93106278  0.80711775]\n",
      " [ 1.42924003  0.97045967  0.80711775  0.80711775]\n",
      " [ 1.          0.8668779   0.48954166  0.80711775]\n",
      " [ 1.07404143  0.75147729  0.80711775  0.69967254]\n",
      " [ 1.3307122   0.8091776   0.54525307  0.52578802]\n",
      " [ 0.36787944  0.45579402  0.86909026  0.80711775]\n",
      " [ 0.80711775  1.          0.8091776   0.93106278]\n",
      " [ 0.69967254  0.84983627  0.8668779   0.65143906]\n",
      " [ 1.42924003  0.50766484  0.67900398  0.65143906]\n",
      " [ 0.66133596  1.          0.48954166  0.42545589]]\n"
     ]
    }
   ],
   "source": [
    "data = pd.read_csv('varCalcData.txt', sep=\",\", header=None)\n",
    "data = np.array(data)\n",
    "print(data)"
   ]
  },
  {
   "cell_type": "code",
   "execution_count": 6,
   "metadata": {
    "collapsed": false
   },
   "outputs": [
    {
     "name": "stdout",
     "output_type": "stream",
     "text": [
      "[ 0.11927523  0.02750445  0.03445816  0.04617075]\n"
     ]
    }
   ],
   "source": [
    "var_d = np.var(data, dtype=np.float64, axis=0)\n",
    "print(var_d)"
   ]
  },
  {
   "cell_type": "code",
   "execution_count": null,
   "metadata": {
    "collapsed": true
   },
   "outputs": [],
   "source": []
  }
 ],
 "metadata": {
  "kernelspec": {
   "display_name": "Python 2",
   "language": "python",
   "name": "python2"
  },
  "language_info": {
   "codemirror_mode": {
    "name": "ipython",
    "version": 2
   },
   "file_extension": ".py",
   "mimetype": "text/x-python",
   "name": "python",
   "nbconvert_exporter": "python",
   "pygments_lexer": "ipython2",
   "version": "2.7.12"
  }
 },
 "nbformat": 4,
 "nbformat_minor": 2
}
